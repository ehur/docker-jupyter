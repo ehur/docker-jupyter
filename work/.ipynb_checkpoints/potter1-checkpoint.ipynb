{
 "cells": [
  {
   "cell_type": "code",
   "execution_count": 2,
   "metadata": {},
   "outputs": [
    {
     "name": "stdout",
     "output_type": "stream",
     "text": [
      "['gryffindor', 'hufflepuff', 'slytherin', 'ravenclaw']\n"
     ]
    }
   ],
   "source": [
    "gryf = 'gryffindor'\n",
    "huff = 'hufflepuff'\n",
    "slyt = 'slytherin'\n",
    "rave = 'ravenclaw'\n",
    "T = [gryf, huff, slyt, rave]\n",
    "print(T)"
   ]
  },
  {
   "cell_type": "code",
   "execution_count": 4,
   "metadata": {},
   "outputs": [
    {
     "name": "stdout",
     "output_type": "stream",
     "text": [
      "[0.78, 0.09, 0.06, 0.07]\n",
      "[ 0.07  0.78  0.09  0.06]\n",
      "[ 0.06  0.07  0.78  0.09]\n",
      "[ 0.09  0.06  0.07  0.78]\n"
     ]
    }
   ],
   "source": [
    "import numpy as np\n",
    "probs = [0.78, 0.09, 0.06, 0.07]\n",
    "P_gryf = probs\n",
    "P_huff = np.roll(probs,1)\n",
    "P_slyt = np.roll(probs,2)\n",
    "P_rave = np.roll(probs,3)"
   ]
  },
  {
   "cell_type": "code",
   "execution_count": 6,
   "metadata": {},
   "outputs": [
    {
     "name": "stdout",
     "output_type": "stream",
     "text": [
      "['gryffindor' 'gryffindor' 'hufflepuff' 'hufflepuff' 'gryffindor'\n",
      " 'gryffindor' 'gryffindor' 'gryffindor' 'gryffindor' 'gryffindor'\n",
      " 'gryffindor' 'gryffindor' 'gryffindor' 'gryffindor' 'gryffindor'\n",
      " 'gryffindor' 'gryffindor' 'gryffindor' 'gryffindor' 'slytherin'\n",
      " 'gryffindor' 'ravenclaw' 'gryffindor' 'ravenclaw' 'gryffindor'\n",
      " 'hufflepuff' 'gryffindor' 'gryffindor' 'gryffindor' 'hufflepuff'\n",
      " 'hufflepuff' 'gryffindor' 'gryffindor' 'gryffindor' 'gryffindor'\n",
      " 'gryffindor' 'hufflepuff' 'gryffindor' 'gryffindor' 'gryffindor'\n",
      " 'gryffindor' 'hufflepuff' 'gryffindor' 'gryffindor' 'gryffindor'\n",
      " 'gryffindor' 'gryffindor' 'gryffindor' 'slytherin' 'gryffindor'\n",
      " 'gryffindor' 'gryffindor' 'gryffindor' 'gryffindor' 'gryffindor'\n",
      " 'gryffindor' 'gryffindor' 'ravenclaw' 'gryffindor' 'gryffindor'\n",
      " 'gryffindor' 'gryffindor' 'gryffindor' 'gryffindor' 'gryffindor'\n",
      " 'ravenclaw' 'gryffindor' 'gryffindor' 'gryffindor' 'slytherin'\n",
      " 'gryffindor' 'gryffindor' 'gryffindor' 'hufflepuff' 'hufflepuff'\n",
      " 'ravenclaw' 'gryffindor' 'hufflepuff' 'gryffindor' 'gryffindor'\n",
      " 'gryffindor' 'gryffindor' 'gryffindor' 'gryffindor' 'gryffindor'\n",
      " 'gryffindor' 'ravenclaw' 'gryffindor' 'gryffindor' 'gryffindor'\n",
      " 'gryffindor' 'gryffindor' 'gryffindor' 'gryffindor' 'gryffindor'\n",
      " 'gryffindor' 'gryffindor' 'hufflepuff' 'gryffindor' 'hufflepuff']\n"
     ]
    }
   ],
   "source": [
    "gryf_keys = np.random.choice(T, 100, p=list(P_gryf))"
   ]
  },
  {
   "cell_type": "code",
   "execution_count": 19,
   "metadata": {},
   "outputs": [],
   "source": [
    "import pandas as pd\n",
    "df = pd.DataFrame(gryf_keys, columns=['house'])"
   ]
  },
  {
   "cell_type": "code",
   "execution_count": 20,
   "metadata": {},
   "outputs": [
    {
     "data": {
      "text/plain": [
       "house\n",
       "gryffindor    79\n",
       "hufflepuff    12\n",
       "ravenclaw      6\n",
       "slytherin      3\n",
       "Name: house, dtype: int64"
      ]
     },
     "execution_count": 20,
     "metadata": {},
     "output_type": "execute_result"
    }
   ],
   "source": [
    "df.groupby('house').house.count()"
   ]
  },
  {
   "cell_type": "code",
   "execution_count": null,
   "metadata": {},
   "outputs": [],
   "source": [
    "questions = ['landscape','pet','howRemembered','enchantedThings','whichAction','values','skills','struggles','blackOrWhite']\n"
   ]
  }
 ],
 "metadata": {
  "kernelspec": {
   "display_name": "Python 3",
   "language": "python",
   "name": "python3"
  },
  "language_info": {
   "codemirror_mode": {
    "name": "ipython",
    "version": 3
   },
   "file_extension": ".py",
   "mimetype": "text/x-python",
   "name": "python",
   "nbconvert_exporter": "python",
   "pygments_lexer": "ipython3",
   "version": "3.6.3"
  }
 },
 "nbformat": 4,
 "nbformat_minor": 2
}
